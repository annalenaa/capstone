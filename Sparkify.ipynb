{
 "cells": [
  {
   "cell_type": "markdown",
   "metadata": {},
   "source": [
    "# Sparkify Project Workspace\n",
    "This workspace contains a tiny subset (128MB) of the full dataset available (12GB). Feel free to use this workspace to build your project, or to explore a smaller subset with Spark before deploying your cluster on the cloud. Instructions for setting up your Spark cluster is included in the last lesson of the Extracurricular Spark Course content.\n",
    "\n",
    "You can follow the steps below to guide your data analysis and model building portion of this project."
   ]
  },
  {
   "cell_type": "code",
   "execution_count": 55,
   "metadata": {},
   "outputs": [],
   "source": [
    "# import libraries\n",
    "from pyspark.sql import SparkSession\n",
    "from pyspark.sql import functions as f\n",
    "from pyspark.sql.types import IntegerType\n",
    "from pyspark.sql.functions import udf\n",
    "\n",
    "from pyspark.ml.feature import VectorAssembler, StandardScaler\n",
    "from pyspark.ml.classification import LogisticRegression, RandomForestClassifier\n",
    "from pyspark.ml.evaluation import MulticlassClassificationEvaluator\n",
    "from pyspark.ml.tuning import ParamGridBuilder, CrossValidator\n",
    "\n",
    "import pandas as pd\n",
    "import numpy as np\n",
    "import matplotlib.pyplot as plt\n",
    "%matplotlib inline\n",
    "import seaborn as sns\n",
    "import datetime as dt"
   ]
  },
  {
   "cell_type": "code",
   "execution_count": 2,
   "metadata": {},
   "outputs": [],
   "source": [
    "# create a Spark session\n",
    "spark = SparkSession.builder \\\n",
    "    .master('local') \\\n",
    "    .appName('Sparkify') \\\n",
    "    .getOrCreate()"
   ]
  },
  {
   "cell_type": "markdown",
   "metadata": {},
   "source": [
    "# Load and Clean Dataset\n",
    "In this workspace, the mini-dataset file is `mini_sparkify_event_data.json`. Load and clean the dataset, checking for invalid or missing data - for example, records without userids or sessionids. "
   ]
  },
  {
   "cell_type": "code",
   "execution_count": 3,
   "metadata": {},
   "outputs": [
    {
     "data": {
      "text/plain": [
       "Row(artist='Martha Tilston', auth='Logged In', firstName='Colin', gender='M', itemInSession=50, lastName='Freeman', length=277.89016, level='paid', location='Bakersfield, CA', method='PUT', page='NextSong', registration=1538173362000, sessionId=29, song='Rockpools', status=200, ts=1538352117000, userAgent='Mozilla/5.0 (Windows NT 6.1; WOW64; rv:31.0) Gecko/20100101 Firefox/31.0', userId='30')"
      ]
     },
     "execution_count": 3,
     "metadata": {},
     "output_type": "execute_result"
    }
   ],
   "source": [
    "df = spark.read.json('mini_sparkify_event_data.json')\n",
    "df.head()"
   ]
  },
  {
   "cell_type": "markdown",
   "metadata": {},
   "source": [
    "\n",
    "**Structure of the dataframe:**"
   ]
  },
  {
   "cell_type": "code",
   "execution_count": 4,
   "metadata": {},
   "outputs": [
    {
     "data": {
      "text/plain": [
       "18"
      ]
     },
     "execution_count": 4,
     "metadata": {},
     "output_type": "execute_result"
    }
   ],
   "source": [
    "len(df.columns)"
   ]
  },
  {
   "cell_type": "code",
   "execution_count": 96,
   "metadata": {},
   "outputs": [
    {
     "data": {
      "text/plain": [
       "['artist',\n",
       " 'auth',\n",
       " 'firstName',\n",
       " 'gender',\n",
       " 'itemInSession',\n",
       " 'lastName',\n",
       " 'length',\n",
       " 'level',\n",
       " 'location',\n",
       " 'method',\n",
       " 'page',\n",
       " 'registration',\n",
       " 'sessionId',\n",
       " 'song',\n",
       " 'status',\n",
       " 'ts',\n",
       " 'userAgent',\n",
       " 'userId']"
      ]
     },
     "execution_count": 96,
     "metadata": {},
     "output_type": "execute_result"
    }
   ],
   "source": [
    "df.columns"
   ]
  },
  {
   "cell_type": "code",
   "execution_count": 5,
   "metadata": {},
   "outputs": [
    {
     "data": {
      "text/plain": [
       "286500"
      ]
     },
     "execution_count": 5,
     "metadata": {},
     "output_type": "execute_result"
    }
   ],
   "source": [
    "df.count()"
   ]
  },
  {
   "cell_type": "markdown",
   "metadata": {},
   "source": [
    "The dataframe consists of 18 columns and 286500 rows. "
   ]
  },
  {
   "cell_type": "code",
   "execution_count": 6,
   "metadata": {},
   "outputs": [],
   "source": [
    "# check for missing values\n",
    "nulls = df.select([f.count(f.when(f.isnull(col), col)).alias(col) for col in df.columns]).toPandas()\n",
    "\n",
    "# reference:\n",
    "# https://stackoverflow.com/questions/44627386/how-to-find-count-of-null-and-nan-values-for-each-column-in-a-pyspark-dataframe?rq=1"
   ]
  },
  {
   "cell_type": "code",
   "execution_count": 103,
   "metadata": {
    "scrolled": true
   },
   "outputs": [
    {
     "data": {
      "text/html": [
       "<div>\n",
       "<style scoped>\n",
       "    .dataframe tbody tr th:only-of-type {\n",
       "        vertical-align: middle;\n",
       "    }\n",
       "\n",
       "    .dataframe tbody tr th {\n",
       "        vertical-align: top;\n",
       "    }\n",
       "\n",
       "    .dataframe thead th {\n",
       "        text-align: right;\n",
       "    }\n",
       "</style>\n",
       "<table border=\"1\" class=\"dataframe\">\n",
       "  <thead>\n",
       "    <tr style=\"text-align: right;\">\n",
       "      <th></th>\n",
       "      <th>artist</th>\n",
       "      <th>auth</th>\n",
       "      <th>firstName</th>\n",
       "      <th>gender</th>\n",
       "      <th>itemInSession</th>\n",
       "      <th>lastName</th>\n",
       "      <th>length</th>\n",
       "      <th>level</th>\n",
       "      <th>location</th>\n",
       "      <th>method</th>\n",
       "      <th>page</th>\n",
       "      <th>registration</th>\n",
       "      <th>sessionId</th>\n",
       "      <th>song</th>\n",
       "      <th>status</th>\n",
       "      <th>ts</th>\n",
       "      <th>userAgent</th>\n",
       "      <th>userId</th>\n",
       "    </tr>\n",
       "  </thead>\n",
       "  <tbody>\n",
       "    <tr>\n",
       "      <th>0</th>\n",
       "      <td>58392</td>\n",
       "      <td>0</td>\n",
       "      <td>8346</td>\n",
       "      <td>8346</td>\n",
       "      <td>0</td>\n",
       "      <td>8346</td>\n",
       "      <td>58392</td>\n",
       "      <td>0</td>\n",
       "      <td>8346</td>\n",
       "      <td>0</td>\n",
       "      <td>0</td>\n",
       "      <td>8346</td>\n",
       "      <td>0</td>\n",
       "      <td>58392</td>\n",
       "      <td>0</td>\n",
       "      <td>0</td>\n",
       "      <td>8346</td>\n",
       "      <td>0</td>\n",
       "    </tr>\n",
       "  </tbody>\n",
       "</table>\n",
       "</div>"
      ],
      "text/plain": [
       "   artist  auth  firstName  gender  itemInSession  lastName  length  level  \\\n",
       "0   58392     0       8346    8346              0      8346   58392      0   \n",
       "\n",
       "   location  method  page  registration  sessionId   song  status  ts  \\\n",
       "0      8346       0     0          8346          0  58392       0   0   \n",
       "\n",
       "   userAgent  userId  \n",
       "0       8346       0  "
      ]
     },
     "execution_count": 103,
     "metadata": {},
     "output_type": "execute_result"
    }
   ],
   "source": [
    "# number of missing values in each column\n",
    "nulls"
   ]
  },
  {
   "cell_type": "code",
   "execution_count": 8,
   "metadata": {},
   "outputs": [
    {
     "data": {
      "image/png": "[encoded data removed]",
      "text/plain": [
       "<matplotlib.figure.Figure at 0x7f0e352e5ba8>"
      ]
     },
     "metadata": {
      "needs_background": "light"
     },
     "output_type": "display_data"
    }
   ],
   "source": [
    "plt.figure(figsize=(12,4))\n",
    "plt.bar(np.arange(len(nulls.columns)), nulls.values[0], color='#20B2AA')\n",
    "plt.xticks(np.arange(len(nulls.columns)), nulls.columns, rotation='vertical')\n",
    "plt.yticks(np.arange(0, 61000, 10000), ['0','10k','20k','30k','40k','50k','60k'])\n",
    "plt.title('Number of Missing Values per Column', fontsize=14);"
   ]
  },
  {
   "cell_type": "markdown",
   "metadata": {},
   "source": [
    "The columns ***artist***, ***length***, and ***song*** have the same number of missing values. These probably refer to the records where the user was using the service but not listening to a song, so there is no information on the artist, song or length.\n",
    "\n",
    "The columns ***firstName***, ***gender***, ***lastName***, ***location***, ***registration***, and ***userAgent*** have the exact same number of missing values as well. These records probably refer to the users that use the service but are not registered yet, or they are not logged in.\n",
    "\n",
    "\n",
    "**Checking for invalid data:**"
   ]
  },
  {
   "cell_type": "code",
   "execution_count": 9,
   "metadata": {},
   "outputs": [
    {
     "name": "stdout",
     "output_type": "stream",
     "text": [
      "+------+\n",
      "|userId|\n",
      "+------+\n",
      "|      |\n",
      "|    10|\n",
      "|   100|\n",
      "|100001|\n",
      "|100002|\n",
      "|100003|\n",
      "|100004|\n",
      "|100005|\n",
      "|100006|\n",
      "|100007|\n",
      "+------+\n",
      "only showing top 10 rows\n",
      "\n"
     ]
    }
   ],
   "source": [
    "df.select(\"userId\").dropDuplicates().sort(\"userId\").show(10)"
   ]
  },
  {
   "cell_type": "code",
   "execution_count": 10,
   "metadata": {},
   "outputs": [
    {
     "data": {
      "text/plain": [
       "278154"
      ]
     },
     "execution_count": 10,
     "metadata": {},
     "output_type": "execute_result"
    }
   ],
   "source": [
    "df_valid = df.filter(df.userId != \"\")\n",
    "df_valid.count()"
   ]
  },
  {
   "cell_type": "code",
   "execution_count": 11,
   "metadata": {},
   "outputs": [
    {
     "data": {
      "text/plain": [
       "8346"
      ]
     },
     "execution_count": 11,
     "metadata": {},
     "output_type": "execute_result"
    }
   ],
   "source": [
    "df.count() - df_valid.count()"
   ]
  },
  {
   "cell_type": "markdown",
   "metadata": {},
   "source": [
    "Dropped 8346 rows with empty strings at userId. "
   ]
  },
  {
   "cell_type": "code",
   "execution_count": 105,
   "metadata": {},
   "outputs": [],
   "source": [
    "# check missing values again after dropping empty user ids\n",
    "nulls = df_valid.select([f.count(f.when(f.isnull(col), col)).alias(col) for col in df_valid.columns]).toPandas()"
   ]
  },
  {
   "cell_type": "code",
   "execution_count": 106,
   "metadata": {},
   "outputs": [
    {
     "data": {
      "image/png": "[encoded data removed]",
      "text/plain": [
       "<matplotlib.figure.Figure at 0x7f0e34c16cc0>"
      ]
     },
     "metadata": {
      "needs_background": "light"
     },
     "output_type": "display_data"
    }
   ],
   "source": [
    "plt.figure(figsize=(12,4))\n",
    "plt.bar(np.arange(len(nulls.columns)), nulls.values[0], color='#20B2AA')\n",
    "plt.xticks(np.arange(len(nulls.columns)), nulls.columns, rotation='vertical')\n",
    "plt.yticks(np.arange(0, 61000, 10000), ['0','10k','20k','30k','40k','50k','60k'])\n",
    "plt.title('Number of Missing Values per Column after dropping empty userID', fontsize=14);"
   ]
  },
  {
   "cell_type": "markdown",
   "metadata": {},
   "source": [
    "After dropping the empty user-IDs there are missing values remaining among the sessions where no song was played. These are ok and don't need to be removed from the data. "
   ]
  },
  {
   "cell_type": "markdown",
   "metadata": {},
   "source": [
    "# Exploratory Data Analysis\n",
    "When you're working with the full dataset, perform EDA by loading a small subset of the data and doing basic manipulations within Spark. In this workspace, you are already provided a small subset of data you can explore.\n",
    "\n",
    "### Define Churn\n",
    "\n",
    "Once you've done some preliminary analysis, create a column `Churn` to use as the label for your model. I suggest using the `Cancellation Confirmation` events to define your churn, which happen for both paid and free users. As a bonus task, you can also look into the `Downgrade` events."
   ]
  },
  {
   "cell_type": "code",
   "execution_count": 12,
   "metadata": {},
   "outputs": [
    {
     "name": "stdout",
     "output_type": "stream",
     "text": [
      "+--------------------+\n",
      "|                page|\n",
      "+--------------------+\n",
      "|               About|\n",
      "|          Add Friend|\n",
      "|     Add to Playlist|\n",
      "|              Cancel|\n",
      "|Cancellation Conf...|\n",
      "|           Downgrade|\n",
      "|               Error|\n",
      "|                Help|\n",
      "|                Home|\n",
      "|              Logout|\n",
      "|            NextSong|\n",
      "|         Roll Advert|\n",
      "|       Save Settings|\n",
      "|            Settings|\n",
      "|    Submit Downgrade|\n",
      "|      Submit Upgrade|\n",
      "|         Thumbs Down|\n",
      "|           Thumbs Up|\n",
      "|             Upgrade|\n",
      "+--------------------+\n",
      "\n"
     ]
    }
   ],
   "source": [
    "df_valid.select(\"page\").dropDuplicates().sort(\"page\").show()"
   ]
  },
  {
   "cell_type": "markdown",
   "metadata": {},
   "source": [
    "Pages of interest for defining churn are \"Cancel\" and \"Cancellation Confirmation\". \n",
    "\n",
    "Check how often each page was visited:"
   ]
  },
  {
   "cell_type": "code",
   "execution_count": 13,
   "metadata": {},
   "outputs": [
    {
     "name": "stdout",
     "output_type": "stream",
     "text": [
      "+--------------------+------+\n",
      "|                page| count|\n",
      "+--------------------+------+\n",
      "|               About|   495|\n",
      "|          Add Friend|  4277|\n",
      "|     Add to Playlist|  6526|\n",
      "|              Cancel|    52|\n",
      "|Cancellation Conf...|    52|\n",
      "|           Downgrade|  2055|\n",
      "|               Error|   252|\n",
      "|                Help|  1454|\n",
      "|                Home| 10082|\n",
      "|              Logout|  3226|\n",
      "|            NextSong|228108|\n",
      "|         Roll Advert|  3933|\n",
      "|       Save Settings|   310|\n",
      "|            Settings|  1514|\n",
      "|    Submit Downgrade|    63|\n",
      "|      Submit Upgrade|   159|\n",
      "|         Thumbs Down|  2546|\n",
      "|           Thumbs Up| 12551|\n",
      "|             Upgrade|   499|\n",
      "+--------------------+------+\n",
      "\n"
     ]
    }
   ],
   "source": [
    "df_valid.groupBy(\"page\").count().sort(\"page\").show()"
   ]
  },
  {
   "cell_type": "code",
   "execution_count": 14,
   "metadata": {},
   "outputs": [
    {
     "name": "stdout",
     "output_type": "stream",
     "text": [
      "+----------------------+\n",
      "|count(DISTINCT userId)|\n",
      "+----------------------+\n",
      "|                   225|\n",
      "+----------------------+\n",
      "\n"
     ]
    }
   ],
   "source": [
    "df_valid.agg(f.countDistinct(\"userId\")).show()"
   ]
  },
  {
   "cell_type": "markdown",
   "metadata": {},
   "source": [
    "The number of users cancelling the service is 52, while the total number of users in the dataset is 225. The classes are imbalanced but not too imbalanced for a proper try of predicting churn, where churn is someone reaching the \"Cancellation Confirmation\" page.\n",
    "\n",
    "I will flag users that cancelled in a new column called \"churn\" (churned = 1, not churned = 0)."
   ]
  },
  {
   "cell_type": "code",
   "execution_count": 15,
   "metadata": {},
   "outputs": [],
   "source": [
    "# find all users that cancelled\n",
    "users_cancelled = df_valid.filter(df_valid.page == \"Cancellation Confirmation\").select(\"userId\").dropDuplicates()"
   ]
  },
  {
   "cell_type": "code",
   "execution_count": 16,
   "metadata": {},
   "outputs": [
    {
     "data": {
      "text/plain": [
       "52"
      ]
     },
     "execution_count": 16,
     "metadata": {},
     "output_type": "execute_result"
    }
   ],
   "source": [
    "# should be 52 users\n",
    "users_cancelled.count()"
   ]
  },
  {
   "cell_type": "code",
   "execution_count": 17,
   "metadata": {},
   "outputs": [
    {
     "data": {
      "text/plain": [
       "[Row(userId='125'),\n",
       " Row(userId='51'),\n",
       " Row(userId='54'),\n",
       " Row(userId='100014'),\n",
       " Row(userId='101'),\n",
       " Row(userId='29'),\n",
       " Row(userId='100021'),\n",
       " Row(userId='87'),\n",
       " Row(userId='73'),\n",
       " Row(userId='3'),\n",
       " Row(userId='28'),\n",
       " Row(userId='100022'),\n",
       " Row(userId='100025'),\n",
       " Row(userId='300007'),\n",
       " Row(userId='100006'),\n",
       " Row(userId='18'),\n",
       " Row(userId='70'),\n",
       " Row(userId='100005'),\n",
       " Row(userId='17'),\n",
       " Row(userId='100007'),\n",
       " Row(userId='300001'),\n",
       " Row(userId='100009'),\n",
       " Row(userId='100015'),\n",
       " Row(userId='200024'),\n",
       " Row(userId='100003'),\n",
       " Row(userId='103'),\n",
       " Row(userId='100024'),\n",
       " Row(userId='53'),\n",
       " Row(userId='122'),\n",
       " Row(userId='200017'),\n",
       " Row(userId='58'),\n",
       " Row(userId='100011'),\n",
       " Row(userId='100019'),\n",
       " Row(userId='100012'),\n",
       " Row(userId='200018'),\n",
       " Row(userId='200016'),\n",
       " Row(userId='200020'),\n",
       " Row(userId='106'),\n",
       " Row(userId='143'),\n",
       " Row(userId='32'),\n",
       " Row(userId='200001'),\n",
       " Row(userId='105'),\n",
       " Row(userId='200011'),\n",
       " Row(userId='100023'),\n",
       " Row(userId='100013'),\n",
       " Row(userId='100017'),\n",
       " Row(userId='121'),\n",
       " Row(userId='12'),\n",
       " Row(userId='200015'),\n",
       " Row(userId='129'),\n",
       " Row(userId='200021'),\n",
       " Row(userId='100001')]"
      ]
     },
     "execution_count": 17,
     "metadata": {},
     "output_type": "execute_result"
    }
   ],
   "source": [
    "# list after the above query (not working properly)\n",
    "users_cancelled.collect()"
   ]
  },
  {
   "cell_type": "code",
   "execution_count": 18,
   "metadata": {},
   "outputs": [],
   "source": [
    "# create new list that holds all users who cancelled the service \n",
    "users_cancelled = df_valid.filter(df_valid.page == 'Cancellation Confirmation')\\\n",
    "                                            .select('userId')\\\n",
    "                                            .dropDuplicates()\\\n",
    "                                            .rdd.flatMap(lambda x :    x)\\ # without this the list is not callable in the next step\n",
    "                                            .collect()\n",
    "\n",
    "# reference:\n",
    "# https://stackoverflow.com/questions/22350722/what-is-the-difference-between-map-and-flatmap-and-a-good-use-case-for-each"
   ]
  },
  {
   "cell_type": "code",
   "execution_count": 19,
   "metadata": {},
   "outputs": [
    {
     "data": {
      "text/plain": [
       "['125',\n",
       " '51',\n",
       " '54',\n",
       " '100014',\n",
       " '101',\n",
       " '29',\n",
       " '100021',\n",
       " '87',\n",
       " '73',\n",
       " '3',\n",
       " '28',\n",
       " '100022',\n",
       " '100025',\n",
       " '300007',\n",
       " '100006',\n",
       " '18',\n",
       " '70',\n",
       " '100005',\n",
       " '17',\n",
       " '100007',\n",
       " '300001',\n",
       " '100009',\n",
       " '100015',\n",
       " '200024',\n",
       " '100003',\n",
       " '103',\n",
       " '100024',\n",
       " '53',\n",
       " '122',\n",
       " '200017',\n",
       " '58',\n",
       " '100011',\n",
       " '100019',\n",
       " '100012',\n",
       " '200018',\n",
       " '200016',\n",
       " '200020',\n",
       " '106',\n",
       " '143',\n",
       " '32',\n",
       " '200001',\n",
       " '105',\n",
       " '200011',\n",
       " '100023',\n",
       " '100013',\n",
       " '100017',\n",
       " '121',\n",
       " '12',\n",
       " '200015',\n",
       " '129',\n",
       " '200021',\n",
       " '100001']"
      ]
     },
     "execution_count": 19,
     "metadata": {},
     "output_type": "execute_result"
    }
   ],
   "source": [
    "# now the list is flattened and callable in the following section\n",
    "users_cancelled"
   ]
  },
  {
   "cell_type": "code",
   "execution_count": 20,
   "metadata": {},
   "outputs": [],
   "source": [
    "# create churn column\n",
    "df_valid_churn = df_valid.withColumn('churn', f.when(f.col(\"userId\").isin(users_cancelled), 1).otherwise(0))"
   ]
  },
  {
   "cell_type": "code",
   "execution_count": 21,
   "metadata": {},
   "outputs": [
    {
     "name": "stdout",
     "output_type": "stream",
     "text": [
      "+-----+------+\n",
      "|churn| count|\n",
      "+-----+------+\n",
      "|    0|233290|\n",
      "|    1| 44864|\n",
      "+-----+------+\n",
      "\n"
     ]
    }
   ],
   "source": [
    "df_valid_churn.groupBy(\"churn\").count().sort(\"churn\").show()"
   ]
  },
  {
   "cell_type": "code",
   "execution_count": 22,
   "metadata": {},
   "outputs": [
    {
     "data": {
      "text/plain": [
       "52"
      ]
     },
     "execution_count": 22,
     "metadata": {},
     "output_type": "execute_result"
    }
   ],
   "source": [
    "# test if it worked correctly --> there were 52 unique users visiting the \"Cancellation Confirmation\" page\n",
    "df_valid_churn.filter(df_valid_churn.churn == 1).select(\"userId\").dropDuplicates().count()"
   ]
  },
  {
   "cell_type": "code",
   "execution_count": 23,
   "metadata": {},
   "outputs": [
    {
     "data": {
      "text/plain": [
       "44864"
      ]
     },
     "execution_count": 23,
     "metadata": {},
     "output_type": "execute_result"
    }
   ],
   "source": [
    "# do these 52 users account for 44864 rows in the data? (as the table above suggests)\n",
    "df_valid_churn.filter(df_valid_churn.churn == 1).select(\"userId\").count()"
   ]
  },
  {
   "cell_type": "markdown",
   "metadata": {},
   "source": [
    "### Explore Data\n",
    "Once you've defined churn, perform some exploratory data analysis to observe the behavior for users who stayed vs users who churned. You can start by exploring aggregates on these two groups of users, observing how much of a specific action they experienced per a certain time unit or number of songs played.\n",
    "\n",
    "**Convert the unix timestamp to a common timestamp:**"
   ]
  },
  {
   "cell_type": "code",
   "execution_count": 24,
   "metadata": {},
   "outputs": [
    {
     "data": {
      "text/plain": [
       "Row(artist='Martha Tilston', auth='Logged In', firstName='Colin', gender='M', itemInSession=50, lastName='Freeman', length=277.89016, level='paid', location='Bakersfield, CA', method='PUT', page='NextSong', registration=1538173362000, sessionId=29, song='Rockpools', status=200, ts=1538352117000, userAgent='Mozilla/5.0 (Windows NT 6.1; WOW64; rv:31.0) Gecko/20100101 Firefox/31.0', userId='30', churn=0)"
      ]
     },
     "execution_count": 24,
     "metadata": {},
     "output_type": "execute_result"
    }
   ],
   "source": [
    "df_valid_churn.head()"
   ]
  },
  {
   "cell_type": "code",
   "execution_count": 25,
   "metadata": {},
   "outputs": [],
   "source": [
    "get_timestamp = udf(lambda x: dt.datetime.fromtimestamp((x/1000)).strftime('%Y-%m-%d %H:%M:%S'))\n",
    "\n",
    "# reference\n",
    "# https://stackoverflow.com/questions/3682748/converting-unix-timestamp-string-to-readable-date"
   ]
  },
  {
   "cell_type": "code",
   "execution_count": 26,
   "metadata": {},
   "outputs": [],
   "source": [
    "df_valid_churn = df_valid_churn.withColumn('time', get_timestamp(df_valid_churn[\"ts\"]))"
   ]
  },
  {
   "cell_type": "code",
   "execution_count": 27,
   "metadata": {},
   "outputs": [
    {
     "data": {
      "text/plain": [
       "Row(artist='Martha Tilston', auth='Logged In', firstName='Colin', gender='M', itemInSession=50, lastName='Freeman', length=277.89016, level='paid', location='Bakersfield, CA', method='PUT', page='NextSong', registration=1538173362000, sessionId=29, song='Rockpools', status=200, ts=1538352117000, userAgent='Mozilla/5.0 (Windows NT 6.1; WOW64; rv:31.0) Gecko/20100101 Firefox/31.0', userId='30', churn=0, time='2018-10-01 00:01:57')"
      ]
     },
     "execution_count": 27,
     "metadata": {},
     "output_type": "execute_result"
    }
   ],
   "source": [
    "df_valid_churn.head()"
   ]
  },
  {
   "cell_type": "markdown",
   "metadata": {},
   "source": [
    "**Explore different columns with churn vs. no churn:**"
   ]
  },
  {
   "cell_type": "code",
   "execution_count": 28,
   "metadata": {},
   "outputs": [
    {
     "data": {
      "text/plain": [
       "['artist',\n",
       " 'auth',\n",
       " 'firstName',\n",
       " 'gender',\n",
       " 'itemInSession',\n",
       " 'lastName',\n",
       " 'length',\n",
       " 'level',\n",
       " 'location',\n",
       " 'method',\n",
       " 'page',\n",
       " 'registration',\n",
       " 'sessionId',\n",
       " 'song',\n",
       " 'status',\n",
       " 'ts',\n",
       " 'userAgent',\n",
       " 'userId',\n",
       " 'churn',\n",
       " 'time']"
      ]
     },
     "execution_count": 28,
     "metadata": {},
     "output_type": "execute_result"
    }
   ],
   "source": [
    "df_valid_churn.columns"
   ]
  },
  {
   "cell_type": "code",
   "execution_count": 29,
   "metadata": {},
   "outputs": [],
   "source": [
    "# grab some columns for visualizations\n",
    "viz_data = df_valid_churn.select([\"userId\",\"churn\",\"gender\",\"level\"]).toPandas()"
   ]
  },
  {
   "cell_type": "code",
   "execution_count": 30,
   "metadata": {},
   "outputs": [],
   "source": [
    "# drop duplicate userIds (visuals should be on user and not record level)\n",
    "viz_data.drop_duplicates(subset=\"userId\", inplace=True)"
   ]
  },
  {
   "cell_type": "code",
   "execution_count": 97,
   "metadata": {},
   "outputs": [
    {
     "data": {
      "image/png": "[encoded data removed]",
      "text/plain": [
       "<matplotlib.figure.Figure at 0x7f0e2c895588>"
      ]
     },
     "metadata": {
      "needs_background": "light"
     },
     "output_type": "display_data"
    }
   ],
   "source": [
    "sns.countplot(x=\"churn\", hue=\"gender\", data=viz_data)\n",
    "plt.title('Gender vs. Churn', fontsize=14)\n",
    "plt.xlabel('Churn')\n",
    "plt.ylabel('Count');\n",
    "#plt.savefig('gender_churn.png', dpi=400);"
   ]
  },
  {
   "cell_type": "markdown",
   "metadata": {},
   "source": [
    "- there are more male than female users\n",
    "- among the users that churned are comparatively more males than females"
   ]
  },
  {
   "cell_type": "code",
   "execution_count": 102,
   "metadata": {},
   "outputs": [
    {
     "data": {
      "image/png": "[encoded data removed]",
      "text/plain": [
       "<matplotlib.figure.Figure at 0x7f0e2a63e588>"
      ]
     },
     "metadata": {
      "needs_background": "light"
     },
     "output_type": "display_data"
    }
   ],
   "source": [
    "sns.countplot(x=\"churn\", hue=\"level\", data=viz_data)\n",
    "plt.title('Level vs. Churn', fontsize=14)\n",
    "plt.xlabel('Churn')\n",
    "plt.ylabel('Count');\n",
    "#plt.savefig('level_churn.png', dpi=400);"
   ]
  },
  {
   "cell_type": "markdown",
   "metadata": {},
   "source": [
    "- there are a lot more users with a free account than with a paid account\n",
    "- the ratio of free/paid accounts does not seem to be noticeably different between churned and not churned users, in both groups there are more free than paid accounts"
   ]
  },
  {
   "cell_type": "markdown",
   "metadata": {},
   "source": [
    "Other features would also be interesting for the exploration, but I will create them in the following section and explore them after."
   ]
  },
  {
   "cell_type": "markdown",
   "metadata": {},
   "source": [
    "# Feature Engineering\n",
    "Once you've familiarized yourself with the data, build out the features you find promising to train your model on. To work with the full dataset, you can follow the following steps.\n",
    "- Write a script to extract the necessary features from the smaller subset of data\n",
    "- Ensure that your script is scalable, using the best practices discussed in Lesson 3\n",
    "- Try your script on the full data set, debugging your script if necessary\n",
    "\n",
    "If you are working in the classroom workspace, you can just extract features based on the small subset of data contained here. Be sure to transfer over this work to the larger dataset when you work on your Spark cluster.\n",
    "\n",
    "How to create new features:\n",
    "\n",
    "Since I want to make predictions on user-level later on, I also need features on the user-level. That means for the machine learning part I don't need the dataframe with multiple rows for each user, I rather need a dataframe with one row for each user and a number of different features that were extracted or calculated from the original dataframe. \n",
    "\n",
    "**Potential features:**\n",
    "- Number of songs a user has listened to\n",
    "- Total length of all sessions per user\n",
    "- Number of different artists a user has listened to\n",
    "- average length of session per user\n",
    "- gender\n"
   ]
  },
  {
   "cell_type": "markdown",
   "metadata": {},
   "source": [
    "**Number of artists a user has listened to:**"
   ]
  },
  {
   "cell_type": "code",
   "execution_count": 33,
   "metadata": {},
   "outputs": [
    {
     "name": "stdout",
     "output_type": "stream",
     "text": [
      "+------+------------+\n",
      "|userId|artist_count|\n",
      "+------+------------+\n",
      "|    10|         565|\n",
      "|   100|        1705|\n",
      "|100001|         125|\n",
      "|100002|         184|\n",
      "|100003|          50|\n",
      "+------+------------+\n",
      "only showing top 5 rows\n",
      "\n"
     ]
    }
   ],
   "source": [
    "df_valid_churn.groupby(\"userId\").agg(f.countDistinct(\"artist\").alias(\"artist_count\")).sort(\"userId\").show(5)"
   ]
  },
  {
   "cell_type": "code",
   "execution_count": 34,
   "metadata": {},
   "outputs": [],
   "source": [
    "num_artists = df_valid_churn.groupby(\"userId\").agg(f.countDistinct(\"artist\").alias(\"artist_count\")).sort(\"userId\")"
   ]
  },
  {
   "cell_type": "markdown",
   "metadata": {},
   "source": [
    "**Number of songs a user has listened to:**"
   ]
  },
  {
   "cell_type": "code",
   "execution_count": 35,
   "metadata": {},
   "outputs": [
    {
     "name": "stdout",
     "output_type": "stream",
     "text": [
      "+------+----------+\n",
      "|userId|song_count|\n",
      "+------+----------+\n",
      "|    10|       629|\n",
      "|   100|      2302|\n",
      "|100001|       129|\n",
      "|100002|       193|\n",
      "|100003|        51|\n",
      "+------+----------+\n",
      "only showing top 5 rows\n",
      "\n"
     ]
    }
   ],
   "source": [
    "df_valid_churn.groupby(\"userId\").agg(f.countDistinct(\"song\").alias(\"song_count\")).sort(\"userId\").show(5)"
   ]
  },
  {
   "cell_type": "code",
   "execution_count": 36,
   "metadata": {},
   "outputs": [],
   "source": [
    "num_songs = df_valid_churn.groupby(\"userId\").agg(f.countDistinct(\"song\").alias(\"song_count\")).sort(\"userId\")"
   ]
  },
  {
   "cell_type": "markdown",
   "metadata": {},
   "source": [
    "**Total length of all sessions per user:**"
   ]
  },
  {
   "cell_type": "code",
   "execution_count": 37,
   "metadata": {},
   "outputs": [
    {
     "name": "stdout",
     "output_type": "stream",
     "text": [
      "+------+------------------+\n",
      "|userId|      total_length|\n",
      "+------+------------------+\n",
      "|    10|166866.37251000004|\n",
      "|   100|  672877.856590001|\n",
      "|100001|35073.742150000005|\n",
      "|100002| 49559.91809999999|\n",
      "|100003|12306.419320000003|\n",
      "+------+------------------+\n",
      "only showing top 5 rows\n",
      "\n"
     ]
    }
   ],
   "source": [
    "df_valid_churn.groupby(\"userId\").agg(f.sum(\"length\").alias(\"total_length\")).sort(\"userId\").show(5)"
   ]
  },
  {
   "cell_type": "code",
   "execution_count": 38,
   "metadata": {},
   "outputs": [],
   "source": [
    "length_sessions = df_valid_churn.groupby(\"userId\").agg(f.sum(\"length\").alias(\"total_length\")).sort(\"userId\")"
   ]
  },
  {
   "cell_type": "markdown",
   "metadata": {},
   "source": [
    "**Average length of session per user:**"
   ]
  },
  {
   "cell_type": "code",
   "execution_count": 39,
   "metadata": {},
   "outputs": [
    {
     "name": "stdout",
     "output_type": "stream",
     "text": [
      "+------+------------------+\n",
      "|userId|        avg_length|\n",
      "+------+------------------+\n",
      "|    10|247.94408991084703|\n",
      "|   100|250.88659828113387|\n",
      "|100001|263.71234699248123|\n",
      "|100002|254.15342615384608|\n",
      "|100003|241.30233960784318|\n",
      "+------+------------------+\n",
      "only showing top 5 rows\n",
      "\n"
     ]
    }
   ],
   "source": [
    "df_valid_churn.groupby(\"userId\").agg(f.avg(\"length\").alias(\"avg_length\")).sort(\"userId\").show(5)"
   ]
  },
  {
   "cell_type": "code",
   "execution_count": 40,
   "metadata": {},
   "outputs": [],
   "source": [
    "avg_length = df_valid_churn.groupby(\"userId\").agg(f.avg(\"length\").alias(\"avg_length\")).sort(\"userId\")"
   ]
  },
  {
   "cell_type": "markdown",
   "metadata": {},
   "source": [
    "**Combine all features with the dataframe (only unique users!):**\n",
    "\n",
    "I will be using the gender feature from the original dataframe."
   ]
  },
  {
   "cell_type": "code",
   "execution_count": 68,
   "metadata": {},
   "outputs": [],
   "source": [
    "df_feat = df_valid_churn.select([\"userId\",\"gender\",\"churn\"]).dropDuplicates().sort(\"userId\")"
   ]
  },
  {
   "cell_type": "code",
   "execution_count": 69,
   "metadata": {
    "scrolled": true
   },
   "outputs": [
    {
     "data": {
      "text/plain": [
       "225"
      ]
     },
     "execution_count": 69,
     "metadata": {},
     "output_type": "execute_result"
    }
   ],
   "source": [
    "df_feat.count()"
   ]
  },
  {
   "cell_type": "markdown",
   "metadata": {},
   "source": [
    "Dataframes to join:\n",
    "- num_artists\n",
    "- num_songs\n",
    "- length_sessions\n",
    "- avg_length"
   ]
  },
  {
   "cell_type": "code",
   "execution_count": 43,
   "metadata": {},
   "outputs": [],
   "source": [
    "# join all dataframes\n",
    "# num_artists\n",
    "df_model = df_feat.join(num_artists, df_feat.userId == num_artists.userId).drop(num_artists.userId)\n",
    "# num_songs\n",
    "df_model = df_model.join(num_songs, df_model.userId == num_songs.userId).drop(num_songs.userId)\n",
    "# length_sessions\n",
    "df_model = df_model.join(length_sessions, df_model.userId == length_sessions.userId).drop(length_sessions.userId)\n",
    "# avg_length\n",
    "df_model = df_model.join(avg_length, df_model.userId == avg_length.userId).drop(avg_length.userId)"
   ]
  },
  {
   "cell_type": "code",
   "execution_count": 44,
   "metadata": {},
   "outputs": [
    {
     "data": {
      "text/plain": [
       "Row(gender='F', churn=0, userId='100010', artist_count=252, song_count=269, total_length=66940.89735000003, avg_length=243.421444909091)"
      ]
     },
     "execution_count": 44,
     "metadata": {},
     "output_type": "execute_result"
    }
   ],
   "source": [
    "df_model.head()"
   ]
  },
  {
   "cell_type": "code",
   "execution_count": 45,
   "metadata": {},
   "outputs": [
    {
     "data": {
      "text/plain": [
       "['gender',\n",
       " 'churn',\n",
       " 'userId',\n",
       " 'artist_count',\n",
       " 'song_count',\n",
       " 'total_length',\n",
       " 'avg_length']"
      ]
     },
     "execution_count": 45,
     "metadata": {},
     "output_type": "execute_result"
    }
   ],
   "source": [
    "df_model.columns"
   ]
  },
  {
   "cell_type": "markdown",
   "metadata": {},
   "source": [
    "**Scale numeric features (artist_count, song_count, total_length, avg_length) and make gender numeric (0 and 1):**"
   ]
  },
  {
   "cell_type": "code",
   "execution_count": 46,
   "metadata": {},
   "outputs": [],
   "source": [
    "# make vector from numeric features\n",
    "assembler = VectorAssembler(inputCols=[\"artist_count\",\"song_count\",\"total_length\",\"avg_length\"], outputCol=\"NumFeatures\")\n",
    "df_model = assembler.transform(df_model)"
   ]
  },
  {
   "cell_type": "code",
   "execution_count": 47,
   "metadata": {},
   "outputs": [
    {
     "data": {
      "text/plain": [
       "Row(gender='F', churn=0, userId='100010', artist_count=252, song_count=269, total_length=66940.89735000003, avg_length=243.421444909091, NumFeatures=DenseVector([252.0, 269.0, 66940.8974, 243.4214]))"
      ]
     },
     "execution_count": 47,
     "metadata": {},
     "output_type": "execute_result"
    }
   ],
   "source": [
    "df_model.head()"
   ]
  },
  {
   "cell_type": "code",
   "execution_count": 48,
   "metadata": {},
   "outputs": [],
   "source": [
    "# scale numeric features\n",
    "scaler = StandardScaler(inputCol=\"NumFeatures\", outputCol=\"ScaledNumFeatures\", withStd=True)\n",
    "scaler_model = scaler.fit(df_model)\n",
    "df_model = scaler_model.transform(df_model)"
   ]
  },
  {
   "cell_type": "code",
   "execution_count": 49,
   "metadata": {},
   "outputs": [
    {
     "data": {
      "text/plain": [
       "Row(gender='F', churn=0, userId='100010', artist_count=252, song_count=269, total_length=66940.89735000003, avg_length=243.421444909091, NumFeatures=DenseVector([252.0, 269.0, 66940.8974, 243.4214]), ScaledNumFeatures=DenseVector([0.4173, 0.3001, 0.2431, 40.9675]))"
      ]
     },
     "execution_count": 49,
     "metadata": {},
     "output_type": "execute_result"
    }
   ],
   "source": [
    "df_model.head()"
   ]
  },
  {
   "cell_type": "code",
   "execution_count": 50,
   "metadata": {},
   "outputs": [],
   "source": [
    "# make gender column numeric\n",
    "df_model = df_model.withColumn('genderDummy', f.when(df_model.gender == \"M\", 1).otherwise(0))"
   ]
  },
  {
   "cell_type": "code",
   "execution_count": 51,
   "metadata": {},
   "outputs": [
    {
     "data": {
      "text/plain": [
       "Row(gender='F', churn=0, userId='100010', artist_count=252, song_count=269, total_length=66940.89735000003, avg_length=243.421444909091, NumFeatures=DenseVector([252.0, 269.0, 66940.8974, 243.4214]), ScaledNumFeatures=DenseVector([0.4173, 0.3001, 0.2431, 40.9675]), genderDummy=0)"
      ]
     },
     "execution_count": 51,
     "metadata": {},
     "output_type": "execute_result"
    }
   ],
   "source": [
    "df_model.head()"
   ]
  },
  {
   "cell_type": "code",
   "execution_count": 52,
   "metadata": {},
   "outputs": [],
   "source": [
    "# assemble all features into one vector\n",
    "assembler = VectorAssembler(inputCols=[\"ScaledNumFeatures\",\"genderDummy\"], outputCol=\"features\")\n",
    "df_model = assembler.transform(df_model)"
   ]
  },
  {
   "cell_type": "code",
   "execution_count": 100,
   "metadata": {},
   "outputs": [
    {
     "data": {
      "text/plain": [
       "Row(gender='F', churn=0, userId='100010', artist_count=252, song_count=269, total_length=66940.89735000003, avg_length=243.421444909091, NumFeatures=DenseVector([252.0, 269.0, 66940.8974, 243.4214]), ScaledNumFeatures=DenseVector([0.4173, 0.3001, 0.2431, 40.9675]), genderDummy=0, features=DenseVector([0.4173, 0.3001, 0.2431, 40.9675, 0.0]))"
      ]
     },
     "execution_count": 100,
     "metadata": {},
     "output_type": "execute_result"
    }
   ],
   "source": [
    "df_model.head()"
   ]
  },
  {
   "cell_type": "markdown",
   "metadata": {},
   "source": [
    "# Modeling\n",
    "Split the full dataset into train, test, and validation sets. Test out several of the machine learning methods you learned. Evaluate the accuracy of the various models, tuning parameters as necessary. Determine your winning model based on test accuracy and report results on the validation set. Since the churned users are a fairly small subset, I suggest using F1 score as the metric to optimize."
   ]
  },
  {
   "cell_type": "code",
   "execution_count": 53,
   "metadata": {},
   "outputs": [
    {
     "data": {
      "text/plain": [
       "DataFrame[label: int, features: vector]"
      ]
     },
     "execution_count": 53,
     "metadata": {},
     "output_type": "execute_result"
    }
   ],
   "source": [
    "# select final dataframe only containing features and label columns\n",
    "df_final = df_model.select(df_model.churn.alias(\"label\"), df_model.features)\n",
    "df_final.persist()"
   ]
  },
  {
   "cell_type": "code",
   "execution_count": 54,
   "metadata": {},
   "outputs": [
    {
     "data": {
      "text/plain": [
       "Row(label=0, features=DenseVector([0.4173, 0.3001, 0.2431, 40.9675, 0.0]))"
      ]
     },
     "execution_count": 54,
     "metadata": {},
     "output_type": "execute_result"
    }
   ],
   "source": [
    "df_final.head()"
   ]
  },
  {
   "cell_type": "code",
   "execution_count": 57,
   "metadata": {},
   "outputs": [
    {
     "data": {
      "text/plain": [
       "DataFrame[label: int, features: vector]"
      ]
     },
     "execution_count": 57,
     "metadata": {},
     "output_type": "execute_result"
    }
   ],
   "source": [
    "# split dataframe\n",
    "train, test = df_final.randomSplit([0.75, 0.25], seed=42)\n",
    "train.persist()"
   ]
  },
  {
   "cell_type": "markdown",
   "metadata": {},
   "source": [
    "### Logistic Regression"
   ]
  },
  {
   "cell_type": "code",
   "execution_count": 59,
   "metadata": {},
   "outputs": [
    {
     "data": {
      "text/plain": [
       "'f1'"
      ]
     },
     "execution_count": 59,
     "metadata": {},
     "output_type": "execute_result"
    }
   ],
   "source": [
    "# default metric is f1 score\n",
    "MulticlassClassificationEvaluator().getMetricName()"
   ]
  },
  {
   "cell_type": "code",
   "execution_count": 60,
   "metadata": {},
   "outputs": [],
   "source": [
    "lr = LogisticRegression()\n",
    "paramGrid = ParamGridBuilder() \\\n",
    "    .addGrid(lr.maxIter, [10, 50]) \\\n",
    "    .addGrid(lr.regParam, [0.01, 0.1, 0.2]) \\\n",
    "    .build()\n",
    "\n",
    "crossval = CrossValidator(estimator=lr,\n",
    "                          estimatorParamMaps=paramGrid,\n",
    "                          evaluator=MulticlassClassificationEvaluator(), # f1\n",
    "                          numFolds=3)"
   ]
  },
  {
   "cell_type": "code",
   "execution_count": 61,
   "metadata": {},
   "outputs": [],
   "source": [
    "# training\n",
    "cv_lr = crossval.fit(train)"
   ]
  },
  {
   "cell_type": "code",
   "execution_count": 71,
   "metadata": {},
   "outputs": [],
   "source": [
    "# save the best model for later use\n",
    "cv_lr.bestModel.save('best_cv_lr_2906.model')"
   ]
  },
  {
   "cell_type": "code",
   "execution_count": 64,
   "metadata": {
    "scrolled": false
   },
   "outputs": [
    {
     "data": {
      "text/plain": [
       "[0.6778065552204722,\n",
       " 0.6778065552204722,\n",
       " 0.6778065552204722,\n",
       " 0.6778065552204722,\n",
       " 0.6778065552204722,\n",
       " 0.6778065552204722]"
      ]
     },
     "execution_count": 64,
     "metadata": {},
     "output_type": "execute_result"
    }
   ],
   "source": [
    "# f1 score for all six models that were trained during cross validation\n",
    "cv_lr.avgMetrics"
   ]
  },
  {
   "cell_type": "code",
   "execution_count": 72,
   "metadata": {},
   "outputs": [],
   "source": [
    "results = cv_lr.bestModel.transform(test)"
   ]
  },
  {
   "cell_type": "code",
   "execution_count": 74,
   "metadata": {},
   "outputs": [
    {
     "name": "stdout",
     "output_type": "stream",
     "text": [
      "+-----+--------------------+--------------------+--------------------+----------+\n",
      "|label|            features|       rawPrediction|         probability|prediction|\n",
      "+-----+--------------------+--------------------+--------------------+----------+\n",
      "|    0|[0.56130300594458...|[0.90076180297419...|[0.71110602820879...|       0.0|\n",
      "|    0|[3.69565872940505...|[2.36744709285480...|[0.91431106105803...|       0.0|\n",
      "|    0|[2.15580092548628...|[1.35884067478815...|[0.79557121238620...|       0.0|\n",
      "|    0|[0.32287341049909...|[0.84186039118543...|[0.69885689116024...|       0.0|\n",
      "|    0|[3.43239271776733...|[2.24831560876875...|[0.90450514391286...|       0.0|\n",
      "|    1|[0.32618493265806...|[0.84238026830338...|[0.69896629107378...|       0.0|\n",
      "|    0|[0.08775533721257...|[0.78492482161606...|[0.68674055389816...|       0.0|\n",
      "|    0|[0.55302420054717...|[0.89877453725047...|[0.71069760456650...|       0.0|\n",
      "|    0|[0.04636131022551...|[1.23867718369899...|[0.77533367501557...|       0.0|\n",
      "|    1|[0.91894739911281...|[1.45806424934104...|[0.81123642821141...|       0.0|\n",
      "|    0|[1.83127175390770...|[1.72851441128251...|[0.84922229852026...|       0.0|\n",
      "|    0|[2.82307264051775...|[1.56832663487147...|[0.82754492597523...|       0.0|\n",
      "|    1|[0.24670840084290...|[0.82173270489249...|[0.69460402142736...|       0.0|\n",
      "|    0|[1.84948512578201...|[1.72714430668279...|[0.84904678118729...|       0.0|\n",
      "|    0|[0.10596870908688...|[1.25308225609477...|[0.77783295839429...|       0.0|\n",
      "|    1|[1.98856905645854...|[1.77320350265080...|[0.85485560568450...|       0.0|\n",
      "|    0|[2.30978670587816...|[1.87661645772966...|[0.86722200219132...|       0.0|\n",
      "|    0|[3.09296169647340...|[1.68192114650790...|[0.84315875502433...|       0.0|\n",
      "|    0|[0.98021055905367...|[1.01441316279823...|[0.73388292366446...|       0.0|\n",
      "|    0|[4.12450084899103...|[2.50451493457555...|[0.92445772818028...|       0.0|\n",
      "+-----+--------------------+--------------------+--------------------+----------+\n",
      "only showing top 20 rows\n",
      "\n"
     ]
    }
   ],
   "source": [
    "results.show()"
   ]
  },
  {
   "cell_type": "code",
   "execution_count": 89,
   "metadata": {},
   "outputs": [
    {
     "name": "stdout",
     "output_type": "stream",
     "text": [
      "F1 Score Logistic Regression: 0.6357031655422937\n"
     ]
    }
   ],
   "source": [
    "evaluator = MulticlassClassificationEvaluator()\n",
    "f1_score_lr = evaluator.evaluate(results)\n",
    "print(\"F1 Score Logistic Regression: {}\".format(f1_score_lr))"
   ]
  },
  {
   "cell_type": "markdown",
   "metadata": {},
   "source": [
    "### Random Forest Classifier"
   ]
  },
  {
   "cell_type": "code",
   "execution_count": 90,
   "metadata": {},
   "outputs": [],
   "source": [
    "rf = RandomForestClassifier()\n",
    "paramGrid = ParamGridBuilder() \\\n",
    "    .addGrid(rf.numTrees, [50, 100]) \\\n",
    "    .addGrid(rf.maxDepth, [5, 10, 25]) \\\n",
    "    .build()\n",
    "\n",
    "crossval = CrossValidator(estimator=rf,\n",
    "                          estimatorParamMaps=paramGrid,\n",
    "                          evaluator=MulticlassClassificationEvaluator(),\n",
    "                          numFolds=3)"
   ]
  },
  {
   "cell_type": "code",
   "execution_count": 91,
   "metadata": {},
   "outputs": [],
   "source": [
    "cv_rf = crossval.fit(train)"
   ]
  },
  {
   "cell_type": "code",
   "execution_count": 92,
   "metadata": {},
   "outputs": [],
   "source": [
    "cv_rf.bestModel.save('best_cv_rf_2906.model')"
   ]
  },
  {
   "cell_type": "code",
   "execution_count": 93,
   "metadata": {
    "scrolled": false
   },
   "outputs": [
    {
     "data": {
      "text/plain": [
       "[0.6765302352912576,\n",
       " 0.6733436651086904,\n",
       " 0.6689183309317299,\n",
       " 0.6764787402984709,\n",
       " 0.6739488257671948,\n",
       " 0.671110541938812]"
      ]
     },
     "execution_count": 93,
     "metadata": {},
     "output_type": "execute_result"
    }
   ],
   "source": [
    "# f1 score for all six models that were trained during cross validation\n",
    "cv_rf.avgMetrics"
   ]
  },
  {
   "cell_type": "code",
   "execution_count": 94,
   "metadata": {},
   "outputs": [],
   "source": [
    "results = cv_rf.bestModel.transform(test)"
   ]
  },
  {
   "cell_type": "code",
   "execution_count": 99,
   "metadata": {},
   "outputs": [
    {
     "name": "stdout",
     "output_type": "stream",
     "text": [
      "F1 Score Random Forest Classifier: 0.6694528875379939\n"
     ]
    }
   ],
   "source": [
    "evaluator = MulticlassClassificationEvaluator()\n",
    "f1_score_rf = evaluator.evaluate(results)\n",
    "print(\"F1 Score Random Forest Classifier: {}\".format(f1_score_rf))"
   ]
  },
  {
   "cell_type": "markdown",
   "metadata": {},
   "source": [
    "The best model out of the2 I tried is the random forest classifier. It correctly predicts churn in 66.9% of the cases in the test data. "
   ]
  },
  {
   "cell_type": "code",
   "execution_count": 124,
   "metadata": {},
   "outputs": [
    {
     "data": {
      "text/plain": [
       "RandomForestClassificationModel (uid=RandomForestClassifier_202e08fdc4d0) with 50 trees"
      ]
     },
     "execution_count": 124,
     "metadata": {},
     "output_type": "execute_result"
    }
   ],
   "source": [
    "cv_rf.bestModel"
   ]
  },
  {
   "cell_type": "code",
   "execution_count": 127,
   "metadata": {},
   "outputs": [
    {
     "data": {
      "text/plain": [
       "[Param(parent='RandomForestClassifier_202e08fdc4d0', name='cacheNodeIds', doc='If false, the algorithm will pass trees to executors to match instances with nodes. If true, the algorithm will cache node IDs for each instance. Caching can speed up training of deeper trees.'),\n",
       " Param(parent='RandomForestClassifier_202e08fdc4d0', name='checkpointInterval', doc='set checkpoint interval (>= 1) or disable checkpoint (-1). E.g. 10 means that the cache will get checkpointed every 10 iterations. Note: this setting will be ignored if the checkpoint directory is not set in the SparkContext'),\n",
       " Param(parent='RandomForestClassifier_202e08fdc4d0', name='featureSubsetStrategy', doc='The number of features to consider for splits at each tree node. Supported options: auto, all, onethird, sqrt, log2, (0.0-1.0], [1-n].'),\n",
       " Param(parent='RandomForestClassifier_202e08fdc4d0', name='featuresCol', doc='features column name'),\n",
       " Param(parent='RandomForestClassifier_202e08fdc4d0', name='impurity', doc='Criterion used for information gain calculation (case-insensitive). Supported options: entropy, gini'),\n",
       " Param(parent='RandomForestClassifier_202e08fdc4d0', name='labelCol', doc='label column name'),\n",
       " Param(parent='RandomForestClassifier_202e08fdc4d0', name='maxBins', doc='Max number of bins for discretizing continuous features.  Must be >=2 and >= number of categories for any categorical feature.'),\n",
       " Param(parent='RandomForestClassifier_202e08fdc4d0', name='maxDepth', doc='Maximum depth of the tree. (>= 0) E.g., depth 0 means 1 leaf node; depth 1 means 1 internal node + 2 leaf nodes.'),\n",
       " Param(parent='RandomForestClassifier_202e08fdc4d0', name='maxMemoryInMB', doc='Maximum memory in MB allocated to histogram aggregation.'),\n",
       " Param(parent='RandomForestClassifier_202e08fdc4d0', name='minInfoGain', doc='Minimum information gain for a split to be considered at a tree node.'),\n",
       " Param(parent='RandomForestClassifier_202e08fdc4d0', name='minInstancesPerNode', doc='Minimum number of instances each child must have after split.  If a split causes the left or right child to have fewer than minInstancesPerNode, the split will be discarded as invalid. Should be >= 1.'),\n",
       " Param(parent='RandomForestClassifier_202e08fdc4d0', name='numTrees', doc='Number of trees to train (>= 1)'),\n",
       " Param(parent='RandomForestClassifier_202e08fdc4d0', name='predictionCol', doc='prediction column name'),\n",
       " Param(parent='RandomForestClassifier_202e08fdc4d0', name='probabilityCol', doc='Column name for predicted class conditional probabilities. Note: Not all models output well-calibrated probability estimates! These probabilities should be treated as confidences, not precise probabilities'),\n",
       " Param(parent='RandomForestClassifier_202e08fdc4d0', name='rawPredictionCol', doc='raw prediction (a.k.a. confidence) column name'),\n",
       " Param(parent='RandomForestClassifier_202e08fdc4d0', name='seed', doc='random seed'),\n",
       " Param(parent='RandomForestClassifier_202e08fdc4d0', name='subsamplingRate', doc='Fraction of the training data used for learning each decision tree, in range (0, 1].'),\n",
       " Param(parent='RandomForestClassifier_202e08fdc4d0', name='thresholds', doc=\"Thresholds in multi-class classification to adjust the probability of predicting each class. Array must have length equal to the number of classes, with values > 0 excepting that at most one value may be 0. The class with largest value p/t is predicted, where p is the original probability of that class and t is the class's threshold\")]"
      ]
     },
     "execution_count": 127,
     "metadata": {},
     "output_type": "execute_result"
    }
   ],
   "source": [
    "cv_rf.bestModel.params"
   ]
  },
  {
   "cell_type": "code",
   "execution_count": 128,
   "metadata": {},
   "outputs": [
    {
     "data": {
      "text/plain": [
       "[1.0,\n",
       " 1.0,\n",
       " 1.0,\n",
       " 1.0,\n",
       " 1.0,\n",
       " 1.0,\n",
       " 1.0,\n",
       " 1.0,\n",
       " 1.0,\n",
       " 1.0,\n",
       " 1.0,\n",
       " 1.0,\n",
       " 1.0,\n",
       " 1.0,\n",
       " 1.0,\n",
       " 1.0,\n",
       " 1.0,\n",
       " 1.0,\n",
       " 1.0,\n",
       " 1.0,\n",
       " 1.0,\n",
       " 1.0,\n",
       " 1.0,\n",
       " 1.0,\n",
       " 1.0,\n",
       " 1.0,\n",
       " 1.0,\n",
       " 1.0,\n",
       " 1.0,\n",
       " 1.0,\n",
       " 1.0,\n",
       " 1.0,\n",
       " 1.0,\n",
       " 1.0,\n",
       " 1.0,\n",
       " 1.0,\n",
       " 1.0,\n",
       " 1.0,\n",
       " 1.0,\n",
       " 1.0,\n",
       " 1.0,\n",
       " 1.0,\n",
       " 1.0,\n",
       " 1.0,\n",
       " 1.0,\n",
       " 1.0,\n",
       " 1.0,\n",
       " 1.0,\n",
       " 1.0,\n",
       " 1.0]"
      ]
     },
     "execution_count": 128,
     "metadata": {},
     "output_type": "execute_result"
    }
   ],
   "source": [
    "cv_rf.bestModel.treeWeights"
   ]
  },
  {
   "cell_type": "markdown",
   "metadata": {},
   "source": [
    "The final model is the random forest classifier with 50 trees. All trees are weighted the same."
   ]
  },
  {
   "cell_type": "markdown",
   "metadata": {},
   "source": [
    "# Final Steps\n",
    "Clean up your code, adding comments and renaming variables to make the code easier to read and maintain. Refer to the Spark Project Overview page and Data Scientist Capstone Project Rubric to make sure you are including all components of the capstone project and meet all expectations. Remember, this includes thorough documentation in a README file in a Github repository, as well as a web app or blog post."
   ]
  }
 ],
 "metadata": {
  "kernelspec": {
   "display_name": "Python 3",
   "language": "python",
   "name": "python3"
  },
  "language_info": {
   "codemirror_mode": {
    "name": "ipython",
    "version": 3
   },
   "file_extension": ".py",
   "mimetype": "text/x-python",
   "name": "python",
   "nbconvert_exporter": "python",
   "pygments_lexer": "ipython3",
   "version": "3.6.3"
  }
 },
 "nbformat": 4,
 "nbformat_minor": 2
}
